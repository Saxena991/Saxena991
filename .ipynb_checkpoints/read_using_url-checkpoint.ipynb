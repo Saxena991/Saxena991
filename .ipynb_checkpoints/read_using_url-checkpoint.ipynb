{
 "cells": [
  {
   "cell_type": "code",
   "execution_count": 6,
   "id": "29080ac5",
   "metadata": {},
   "outputs": [
    {
     "data": {
      "text/plain": [
       "-1"
      ]
     },
     "execution_count": 6,
     "metadata": {},
     "output_type": "execute_result"
    }
   ],
   "source": [
    "#import libs\n",
    "import urllib.request\n",
    "from urllib.request import urlopen\n",
    "import cv2\n",
    "import numpy as np \n",
    "\n",
    "#give url path for image\n",
    "url = (\"https://avatars.mds.yandex.net/i?id=e3ce44fbe0b7f9f98d499087586bc6b7-4907660-images-thumbs&n=13\")\n",
    "url_response = urllib.request.urlopen(url) \n",
    "img_array = np.array(bytearray(url_response.read()), dtype=np.int8)\n",
    "img = cv2.imdecode(img_array,1)\n",
    "cv2.imshow(\"URL image\",img)\n",
    "cv2.waitKey()"
   ]
  }
 ],
 "metadata": {
  "kernelspec": {
   "display_name": "Python 3 (ipykernel)",
   "language": "python",
   "name": "python3"
  },
  "language_info": {
   "codemirror_mode": {
    "name": "ipython",
    "version": 3
   },
   "file_extension": ".py",
   "mimetype": "text/x-python",
   "name": "python",
   "nbconvert_exporter": "python",
   "pygments_lexer": "ipython3",
   "version": "3.8.13"
  }
 },
 "nbformat": 4,
 "nbformat_minor": 5
}
